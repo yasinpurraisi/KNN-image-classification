{
 "cells": [
  {
   "cell_type": "markdown",
   "id": "06356199",
   "metadata": {},
   "source": [
    "# Cat vs Dog Image Classification using K-Nearest Neighbors (KNN)\n",
    "\n",
    "Welcome! My name is Yasin Pourraisi.  \n",
    "In this project, I will build a machine learning model to classify images of cats and dogs using the K-Nearest Neighbors (KNN) algorithm. The goal is to explore how KNN can be applied to computer vision tasks and evaluate its performance on distinguishing between cat and dog images.\n",
    "\n",
    "**Connect with me:**  \n",
    "- GitHub: [yasinpurraisi](https://github.com/yasinpurraisi)  \n",
    "- Email: yasinpourraisi@gmail.com  \n",
    "- Telegram: @yasinprsy\n"
   ]
  },
  {
   "cell_type": "markdown",
   "id": "7502f3b0",
   "metadata": {},
   "source": [
    "### Import Required Libraries\n",
    "\n",
    "Let's start by importing all the necessary libraries for data processing, visualization, and building our KNN model."
   ]
  },
  {
   "cell_type": "code",
   "execution_count": 1,
   "id": "35797407",
   "metadata": {},
   "outputs": [],
   "source": [
    "import numpy as np\n",
    "import cv2\n",
    "from sklearn.model_selection import train_test_split\n",
    "import json"
   ]
  },
  {
   "cell_type": "markdown",
   "id": "875730cd",
   "metadata": {},
   "source": [
    "### Load Images and Labels\n",
    "\n",
    "In this section, I load the image data and their corresponding labels from the dataset. The image file names and labels are stored in _annotation.json file, which you can [download here](https://cv-studio-accessible.s3.us-south.cloud-object-storage.appdomain.cloud/cats_dogs_images_.zip). For each image, we convert it to grayscale and resize it to 30 by 30 pixels to simplifies the algorithm and reduces computational requirements.\n",
    "Then i flatten the image and turn it to 1D array.\n",
    "and i append 0 for cat and 1 for dog to labels."
   ]
  },
  {
   "cell_type": "code",
   "execution_count": 2,
   "id": "6c064ae7",
   "metadata": {},
   "outputs": [],
   "source": [
    "train_images =[]\n",
    "train_labels = []\n",
    "images_dir = \"cats_dogs_images/\" \n",
    "with open(\"cats_dogs_images/_annotations.json\",\"r\") as d:\n",
    "    data = json.load(d)\n",
    "    for key,value in data['annotations'].items():\n",
    "        image = cv2.imread(images_dir+key)\n",
    "        image = cv2.cvtColor(image,cv2.COLOR_BGR2GRAY)\n",
    "        image = cv2.resize(image,(30,30))\n",
    "        image_pixel = image.flatten()\n",
    "        label = 0 if value[0]['label'] == \"cat\" else 1\n",
    "\n",
    "        train_images.append(image_pixel)\n",
    "        train_labels.append(label)\n"
   ]
  },
  {
   "cell_type": "markdown",
   "id": "2b512082",
   "metadata": {},
   "source": [
    "now i change <code>train_images</code> to a numpy array with <code>float32</code> data type becasue KNN expects input to be in <code>float32</code> format, and i convert <code>train_labels</code> to a numpy array with <code>integers</code> and reshape <code>train_labels</code> to a 2D column vector because OpenCV’s KNN expects the labels to be in this shape"
   ]
  },
  {
   "cell_type": "code",
   "execution_count": 3,
   "id": "b0abe299",
   "metadata": {},
   "outputs": [],
   "source": [
    "train_images = np.array(train_images).astype('float32')\n",
    "train_labels = np.array(train_labels)\n",
    "train_labels = train_labels.astype(int)\n",
    "train_labels = train_labels.reshape((train_labels.size,1))"
   ]
  },
  {
   "cell_type": "markdown",
   "id": "611da2a7",
   "metadata": {},
   "source": [
    "### Split Data\n",
    "\n",
    "To evaluate the performance of my KNN classifier, i split the dataset into two parts: a training set and a test set. I use the `train_test_split` function from scikit-learn to randomly divide the data, reserving 80% for training and 20% for testing. Setting a `random_state` guarantees reproducibility of the split. This approach helps prevent overfitting."
   ]
  },
  {
   "cell_type": "code",
   "execution_count": null,
   "id": "c29e96e5",
   "metadata": {},
   "outputs": [],
   "source": [
    "test_size = 0.2\n",
    "train_samples, test_samples, train_labels, test_labels = train_test_split(\n",
    "    train_images, train_labels, test_size=test_size, random_state=0)"
   ]
  },
  {
   "cell_type": "markdown",
   "id": "a76650a7",
   "metadata": {},
   "source": [
    "### Train model\n",
    "\n",
    "To train the KNN model, I will use the <code>cv2.ml.KNearest_create()</code> from the <code>OpenCV</code> library. We need to define how many nearest neighbors will be used for classification as a hyper-parameter k. \n",
    "<code>k</code> refers to the number of nearest neighbours to include in the majority of the voting process\n",
    "i will try multiple values of <code>k</code> to find the optimal value for the dataset."
   ]
  },
  {
   "cell_type": "code",
   "execution_count": 5,
   "id": "d7e1b25e",
   "metadata": {},
   "outputs": [],
   "source": [
    "knn = cv2.ml.KNearest_create()\n",
    "knn.train(train_samples, cv2.ml.ROW_SAMPLE, train_labels)\n",
    "\n",
    "k_values = [1, 2, 3, 4, 5]\n",
    "k_result = []\n",
    "for k in k_values:\n",
    "    ret,result,neighbours,dist = knn.findNearest(test_samples,k=k)\n",
    "    k_result.append(result)\n",
    "\n",
    "#convert k_results into a simple flat list\n",
    "flattened_results = []\n",
    "for res in k_result:\n",
    "    flat_result = [item for sublist in res for item in sublist]\n",
    "    flattened_results.append(flat_result)\n"
   ]
  },
  {
   "cell_type": "markdown",
   "id": "cb6512f7",
   "metadata": {},
   "source": [
    "geting the accuracy for each value of <code>k</code>\n"
   ]
  },
  {
   "cell_type": "code",
   "execution_count": 7,
   "id": "5ab12bb8",
   "metadata": {},
   "outputs": [
    {
     "data": {
      "text/plain": [
       "[(1, 50.0), (2, 52.5), (3, 45.0), (4, 47.5), (5, 60.0)]"
      ]
     },
     "execution_count": 7,
     "metadata": {},
     "output_type": "execute_result"
    }
   ],
   "source": [
    "\n",
    "accuracy_res = []\n",
    "\n",
    "for k_res in k_result:\n",
    "    matches = k_res==test_labels\n",
    "    correct = np.count_nonzero(matches)\n",
    "    accuracy = correct*100.0/result.size\n",
    "    accuracy_res.append(accuracy)\n",
    "\n",
    "res_accuracy = {k_values[i]: accuracy_res[i] for i in range(len(k_values))}\n",
    "list_res = sorted(res_accuracy.items())\n",
    "k_best = max(list_res,key=lambda item:item[1])[0]\n",
    "list_res"
   ]
  },
  {
   "cell_type": "markdown",
   "id": "1ca37714",
   "metadata": {},
   "source": [
    "now that we know the best value for <code>k</code>,i finilize the model"
   ]
  },
  {
   "cell_type": "code",
   "execution_count": 50,
   "id": "356c5d42",
   "metadata": {},
   "outputs": [],
   "source": [
    "ret, final_result, neighbours, dist = knn.findNearest(test_samples, k=k_best)\n",
    "knn.save('knn_best_model.yml')"
   ]
  },
  {
   "cell_type": "markdown",
   "id": "71593f77",
   "metadata": {},
   "source": [
    "## Conclusion\n",
    "\n",
    "In this project, i successfully built and trained a K-Nearest Neighbors (KNN) model to classify cat and dog images using OpenCV. By experimenting with different values of `k`, we identified the optimal number of neighbors for our dataset and evaluated the model's performance.\n",
    "This workflow demonstrates how KNN can be applied to computer vision tasks and provides a foundation for further exploration and improvement. Thank you for following along, and feel free to experiment with your own images and datasets!\n"
   ]
  }
 ],
 "metadata": {
  "kernelspec": {
   "display_name": "Python 3",
   "language": "python",
   "name": "python3"
  },
  "language_info": {
   "codemirror_mode": {
    "name": "ipython",
    "version": 3
   },
   "file_extension": ".py",
   "mimetype": "text/x-python",
   "name": "python",
   "nbconvert_exporter": "python",
   "pygments_lexer": "ipython3",
   "version": "3.13.5"
  }
 },
 "nbformat": 4,
 "nbformat_minor": 5
}
